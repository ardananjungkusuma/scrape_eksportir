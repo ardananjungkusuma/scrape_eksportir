{
  "nbformat": 4,
  "nbformat_minor": 0,
  "metadata": {
    "colab": {
      "name": "Scrape Exportir Exim",
      "provenance": [],
      "collapsed_sections": []
    },
    "kernelspec": {
      "name": "python3",
      "display_name": "Python 3"
    },
    "language_info": {
      "name": "python"
    }
  },
  "cells": [
    {
      "cell_type": "code",
      "metadata": {
        "id": "qESr79aEv-1A"
      },
      "source": [
        "import requests\n",
        "from bs4 import BeautifulSoup\n",
        "from google.colab import files\n",
        "import pandas as pd\n",
        "import json\n",
        "import csv\n",
        "from csv import DictWriter"
      ],
      "execution_count": null,
      "outputs": []
    },
    {
      "cell_type": "code",
      "metadata": {
        "id": "CpGbdGH8xmjI"
      },
      "source": [
        "token = 'a56fb1da083fadfb5926d84e7aa98f89982f6c60984e595351db0296941ffa29'\n",
        "negara = 128"
      ],
      "execution_count": null,
      "outputs": []
    },
    {
      "cell_type": "code",
      "metadata": {
        "id": "iyJe6D34wVVi"
      },
      "source": [
        "payload = {'negara_id': negara,'token':token}\n",
        "req = requests.post('https://exim.kemendag.go.id/home/checkHsV',data=payload)\n",
        "soup = BeautifulSoup(req.text, 'html.parser')\n",
        "HS_V = req.text\n",
        "print(HS_V)\n",
        "\n",
        "# HS17 : DATA HANYA SAMPAI ID 252610\n",
        "# HS12 : DATA HANYA SAMPAI ID 262060"
      ],
      "execution_count": null,
      "outputs": []
    },
    {
      "cell_type": "code",
      "metadata": {
        "id": "fbXEM4koyQpt"
      },
      "source": [
        "payload = {'hs_v':HS_V,'token': token }\n",
        "req = requests.post('https://exim.kemendag.go.id/home/getMasterHS',data=payload)\n",
        "soup = BeautifulSoup(req.text, 'html.parser')\n",
        "option_data = soup.find_all('option')\n",
        "# print(option_data)\n",
        "if HS_V == 'HS17':\n",
        "  id = '252610'\n",
        "elif HS_V == 'HS12':\n",
        "  id = '262060'\n",
        "\n",
        "HS_ITEM_ID = []\n",
        "HS_ITEM_NAME = []\n",
        "\n",
        "\n",
        "for o in option_data[1:]:\n",
        "  HS_ID_loop = o['value']\n",
        "  HS_NAME_loop = o.text\n",
        "  # print(HS_loop)\n",
        "  HS_ITEM_ID.append(HS_ID_loop)\n",
        "  HS_ITEM_NAME.append(HS_NAME_loop)\n",
        "  if o['value'] == id:\n",
        "    break\n",
        "\n",
        "HS_ITEM_ID_1S = HS_ITEM_ID[:len(HS_ITEM_ID)//2]\n",
        "HS_ITEM_ID_2S = HS_ITEM_ID[len(HS_ITEM_ID)//2:]\n",
        "HS_ITEM_NAME_1S = HS_ITEM_NAME[:len(HS_ITEM_NAME)//2]\n",
        "HS_ITEM_NAME_2S = HS_ITEM_NAME[len(HS_ITEM_NAME)//2:]\n",
        "print(HS_ITEM_NAME_1S)\n",
        "print(HS_ITEM_ID_1S)\n",
        "print(HS_ITEM_NAME_1S[0])\n",
        "print(HS_ITEM_ID)"
      ],
      "execution_count": null,
      "outputs": []
    },
    {
      "cell_type": "code",
      "metadata": {
        "id": "B9llcwYvSxqG"
      },
      "source": [
        "# Set CSV Name\n",
        "filename = \"Laosss1Fix.csv\""
      ],
      "execution_count": null,
      "outputs": []
    },
    {
      "cell_type": "code",
      "metadata": {
        "id": "EHAiv5JYxMZm"
      },
      "source": [
        "i = 0\n",
        "for HS_ITEM_ID_1 in HS_ITEM_ID_1S:\n",
        "  payload = {'hs':HS_ITEM_ID_1,'token': token }\n",
        "  req = requests.post('https://exim.kemendag.go.id/home/get_eksportir',data=payload)\n",
        "  print(HS_ITEM_ID_1)\n",
        "  print(HS_ITEM_NAME_1S[i])\n",
        "  soup = BeautifulSoup(req.text, 'html.parser')\n",
        "  json_res = req.text;\n",
        "  # print(HS)\n",
        "  data = pd.read_json(json_res)\n",
        "\n",
        "  with open(filename, \"a\") as file:\n",
        "    csv_file = csv.writer(file)\n",
        "    for item in data[\"data\"]:\n",
        "      if(item['email_eksportir'] is None):\n",
        "        email_eksportir = item['email_eksportir']\n",
        "      else:\n",
        "        email_eksportir = item['email_eksportir'].replace(\"\\n\", \" \")\n",
        "     \n",
        "      if(item['nama_eksportir'] is None):\n",
        "        nama_eksportir = item['nama_eksportir']\n",
        "      else:\n",
        "        nama_eksportir = item['nama_eksportir'].replace(\"\\n\", \" \")\n",
        "     \n",
        "      if(item['alamat_eksportir'] is None):\n",
        "        alamat_eksportir = item['alamat_eksportir']\n",
        "      else:\n",
        "        alamat_eksportir = item['alamat_eksportir'].replace(\"\\n\", \" \")\n",
        "        \n",
        "      csv_file.writerow([HS_ITEM_NAME_1S[i],nama_eksportir,alamat_eksportir,email_eksportir])\n",
        "  i = i + 1\n",
        "  \n",
        "# Set CSV Name\n",
        "files.download('Laosss1Fix.csv')"
      ],
      "execution_count": null,
      "outputs": []
    }
  ]
}