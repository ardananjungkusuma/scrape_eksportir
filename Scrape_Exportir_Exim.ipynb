{
  "nbformat": 4,
  "nbformat_minor": 0,
  "metadata": {
    "colab": {
      "name": "Scrape Exportir Exim",
      "provenance": [],
      "collapsed_sections": []
    },
    "kernelspec": {
      "name": "python3",
      "display_name": "Python 3"
    },
    "language_info": {
      "name": "python"
    }
  },
  "cells": [
    {
      "cell_type": "code",
      "metadata": {
        "id": "qESr79aEv-1A"
      },
      "source": [
        "import requests\n",
        "from bs4 import BeautifulSoup\n",
        "from google.colab import files\n",
        "import pandas as pd\n",
        "import json\n",
        "import csv\n",
        "from csv import DictWriter"
      ],
      "execution_count": 1,
      "outputs": []
    },
    {
      "cell_type": "code",
      "metadata": {
        "id": "CpGbdGH8xmjI"
      },
      "source": [
        "token = 'b4d78cacf9f1226dc03b42800f564ba1fe4cbe32dcae74af08323c68ca4375eb'\n",
        "negara = 114"
      ],
      "execution_count": 25,
      "outputs": []
    },
    {
      "cell_type": "code",
      "metadata": {
        "colab": {
          "base_uri": "https://localhost:8080/"
        },
        "id": "iyJe6D34wVVi",
        "outputId": "47fff465-7a72-478f-fd17-ec97115cf642"
      },
      "source": [
        "payload = {'negara_id': negara,'token':token}\n",
        "req = requests.post('https://exim.kemendag.go.id/home/checkHsV',data=payload)\n",
        "soup = BeautifulSoup(req.text, 'html.parser')\n",
        "HS_V = req.text\n",
        "print(HS_V)\n",
        "\n",
        "# HS17 : DATA HANYA SAMPAI ID 252610\n",
        "# HS12 : DATA HANYA SAMPAI ID 262060"
      ],
      "execution_count": 26,
      "outputs": [
        {
          "output_type": "stream",
          "text": [
            "HS17\n"
          ],
          "name": "stdout"
        }
      ]
    },
    {
      "cell_type": "code",
      "metadata": {
        "id": "fbXEM4koyQpt"
      },
      "source": [
        "payload = {'hs_v':HS_V,'token': token }\n",
        "req = requests.post('https://exim.kemendag.go.id/home/getMasterHS',data=payload)\n",
        "soup = BeautifulSoup(req.text, 'html.parser')\n",
        "option_data = soup.find_all('option')\n",
        "# print(option_data)\n",
        "if HS_V == 'HS17':\n",
        "  id = '252610'\n",
        "elif HS_V == 'HS_12':\n",
        "  id = '262060'\n",
        "\n",
        "HS_ITEM_ID = []\n",
        "HS_ITEM_NAME = []\n",
        "\n",
        "\n",
        "for o in option_data[1:]:\n",
        "  HS_ID_loop = o['value']\n",
        "  HS_NAME_loop = o.text\n",
        "  # print(HS_loop)\n",
        "  HS_ITEM_ID.append(HS_ID_loop)\n",
        "  HS_ITEM_NAME.append(HS_NAME_loop)\n",
        "  if o['value'] == id:\n",
        "    break\n",
        "\n",
        "HS_ITEM_ID_1S = HS_ITEM_ID[:len(HS_ITEM_ID)//2]\n",
        "HS_ITEM_ID_2S = HS_ITEM_ID[len(HS_ITEM_ID)//2:]\n",
        "HS_ITEM_NAME_1S = HS_ITEM_NAME[:len(HS_ITEM_NAME)//2]\n",
        "HS_ITEM_NAME_2S = HS_ITEM_NAME[len(HS_ITEM_NAME)//2:]\n",
        "print(HS_ITEM_NAME_1S)\n",
        "print(HS_ITEM_ID_1S)\n",
        "print(HS_ITEM_NAME_1S[0])\n",
        "# print(HS_ITEM_NAME)"
      ],
      "execution_count": null,
      "outputs": []
    },
    {
      "cell_type": "code",
      "metadata": {
        "id": "B9llcwYvSxqG"
      },
      "source": [
        "# Set CSV Name\n",
        "filename = \"Kenya1Fix.csv\""
      ],
      "execution_count": 20,
      "outputs": []
    },
    {
      "cell_type": "code",
      "metadata": {
        "id": "EHAiv5JYxMZm"
      },
      "source": [
        "# HS = '021099'\n",
        "i = 0\n",
        "for HS_ITEM_ID_1 in HS_ITEM_ID_1S:\n",
        "# for HS_COBA in HS_COBAS:\n",
        "  payload = {'hs':HS_ITEM_ID_1,'token': token }\n",
        "  # payload = {'hs':HS_COBA,'token': token }\n",
        "  req = requests.post('https://exim.kemendag.go.id/home/get_eksportir',data=payload)\n",
        "  print(HS_ITEM_ID_1)\n",
        "  print(HS_ITEM_NAME_1S[i])\n",
        "  soup = BeautifulSoup(req.text, 'html.parser')\n",
        "  json_res = req.text;\n",
        "  # print(HS)\n",
        "  data = pd.read_json(json_res)\n",
        "\n",
        "  with open(filename, \"a\") as file:\n",
        "    csv_file = csv.writer(file)\n",
        "    for item in data[\"data\"]:\n",
        "      if(item['email_eksportir'] is None):\n",
        "        email_eksportir = item['email_eksportir']\n",
        "      else:\n",
        "        email_eksportir = item['email_eksportir'].replace(\"\\n\", \" \")\n",
        "     \n",
        "      if(item['nama_eksportir'] is None):\n",
        "        nama_eksportir = item['nama_eksportir']\n",
        "      else:\n",
        "        nama_eksportir = item['nama_eksportir'].replace(\"\\n\", \" \")\n",
        "     \n",
        "      if(item['alamat_eksportir'] is None):\n",
        "        alamat_eksportir = item['alamat_eksportir']\n",
        "      else:\n",
        "        alamat_eksportir = item['alamat_eksportir'].replace(\"\\n\", \" \")\n",
        "        \n",
        "      csv_file.writerow([HS_ITEM_NAME_1S[i],nama_eksportir,alamat_eksportir,email_eksportir])\n",
        "  i = i + 1\n",
        "  \n",
        "# Set CSV Name\n",
        "files.download('Kenya1Fix.csv')"
      ],
      "execution_count": null,
      "outputs": []
    }
  ]
}